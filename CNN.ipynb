{
 "cells": [
  {
   "cell_type": "markdown",
   "metadata": {},
   "source": [
    "# Classiﬁcation : Convolutional Neural Networks  "
   ]
  },
  {
   "cell_type": "code",
   "execution_count": null,
   "metadata": {
    "_cell_guid": "b1076dfc-b9ad-4769-8c92-a6c4dae69d19",
    "_uuid": "8f2839f25d086af736a60e9eeb907d3b93b6e0e5"
   },
   "outputs": [],
   "source": [
    "# Import libraries\n",
    "import keras\n",
    "import os\n",
    "from keras.utils import to_categorical\n",
    "from sklearn.model_selection import train_test_split\n",
    "import numpy as np\n",
    "import pandas as pd\n",
    "from keras.layers import Convolution2D,MaxPooling2D,Flatten,Dense, Dropout,BatchNormalization, Input\n",
    "from keras.preprocessing.image import ImageDataGenerator\n",
    "from keras.models import Sequential"
   ]
  },
  {
   "cell_type": "code",
   "execution_count": null,
   "metadata": {
    "_cell_guid": "79c7e3d0-c299-4dcb-8224-4455121ee9b0",
    "_uuid": "d629ff2d2480ee46fbb7e2d37f6b5fab8052498a"
   },
   "outputs": [],
   "source": [
    "#Import data\n",
    "train_data = pd.read_csv(\"/kaggle/input/train.csv\")\n",
    "num_classes=5\n",
    "\n",
    "X = train_data[train_data.columns[2:786]].values\n",
    "X=X/255\n",
    "Y = np.ravel(train_data[['Label']])\n",
    "Y = keras.utils.to_categorical(Y,num_classes)\n",
    "\n",
    "X_train,X_val,y_train,y_val = train_test_split(X,Y,test_size = 0.1,random_state = 42)\n",
    "\n",
    "testing_data= pd.read_csv(\"/kaggle/input/testX.csv\")\n",
    "testing_data=testing_data[testing_data.columns[1:785]].values\n",
    "\n",
    "testing_data =testing_data/255\n",
    "\n",
    "#Reshaping the data\n",
    "testing_data = testing_data.reshape(testing_data.shape[0], 28, 28, 1)\n",
    "X_train = X_train.reshape(X_train.shape[0], 28, 28, 1)\n",
    "X_val = X_val.reshape(X_val.shape[0], 28, 28, 1)\n"
   ]
  },
  {
   "cell_type": "code",
   "execution_count": null,
   "metadata": {},
   "outputs": [],
   "source": [
    "#Save checkpoint\n",
    "save_dir = os.path.join(os.getcwd(), 'saved_model')\n",
    "model_name = 'fmnist_resnet_model.h5'\n",
    "if not os.path.isdir(save_dir):\n",
    "    os.makedirs(save_dir)\n",
    "filepath = os.path.join(save_dir,model_name)\n",
    "print(filepath)"
   ]
  },
  {
   "cell_type": "code",
   "execution_count": null,
   "metadata": {},
   "outputs": [],
   "source": [
    "from keras.callbacks import ModelCheckpoint, ReduceLROnPlateau\n",
    "\n",
    "checkpoint = ModelCheckpoint(filepath=filepath,\n",
    "                             verbose=1,\n",
    "                             save_best_only=True)\n",
    "lr_reducer = ReduceLROnPlateau(factor=np.sqrt(0.1),\n",
    "                               cooldown=0,\n",
    "                               patience=5,\n",
    "                               min_lr=0.5e-6)\n",
    "callbacks = [checkpoint, lr_reducer]\n",
    "\n"
   ]
  },
  {
   "cell_type": "markdown",
   "metadata": {},
   "source": [
    "##### CNN1"
   ]
  },
  {
   "cell_type": "code",
   "execution_count": null,
   "metadata": {},
   "outputs": [],
   "source": [
    "# Initialising the CNN\n",
    "classifier = Sequential()\n",
    "\n",
    "# Step 1 - Convolution\n",
    "classifier.add(Convolution2D(32, (3,3), input_shape = (28,28, 1),padding='same', activation = 'relu'))\n",
    "classifier.add(Convolution2D(32, (3,3),padding='same', activation = 'relu'))\n",
    "\n",
    "# Step 2 - Pooling\n",
    "classifier.add(MaxPooling2D(pool_size = (2, 2),strides=2))\n",
    "classifier.add(Dropout(0.2))\n",
    "\n",
    "classifier.add(Convolution2D(64, (3,3), activation = 'relu'))\n",
    "classifier.add(Convolution2D(64, (3,3),activation = 'relu'))\n",
    "classifier.add(BatchNormalization())\n",
    "classifier.add(MaxPooling2D(pool_size = (2, 2),strides=2))\n",
    "\n",
    "classifier.add(Dropout(0.3))\n",
    "\n",
    "classifier.add(Flatten())\n",
    "\n",
    "\n",
    "classifier.add(Dense(activation = 'relu',units=256))\n",
    "classifier.add(BatchNormalization())\n",
    "classifier.add(Dropout(0.7))\n",
    "\n",
    "classifier.add(Dense(activation = 'softmax',units=5))\n",
    "\n",
    "# Compiling the CNN\n",
    "classifier.compile(optimizer = 'adam', loss = 'categorical_crossentropy', metrics = ['accuracy'])\n",
    "classifier.summary()#---------------->88.04%"
   ]
  },
  {
   "cell_type": "code",
   "execution_count": null,
   "metadata": {},
   "outputs": [],
   "source": [
    "classifier.fit(X_train, y_train,\n",
    "              batch_size=256,\n",
    "              epochs=30,\n",
    "               verbose=1,\n",
    "              validation_data=(X_val,y_val))"
   ]
  },
  {
   "cell_type": "code",
   "execution_count": null,
   "metadata": {},
   "outputs": [],
   "source": [
    "test_loss, test_acc = classifier.evaluate(X_val,  y_val, verbose=2)\n",
    "\n",
    "print('\\nTest accuracy:', test_acc)"
   ]
  },
  {
   "cell_type": "markdown",
   "metadata": {},
   "source": [
    "##### CNN2"
   ]
  },
  {
   "cell_type": "code",
   "execution_count": null,
   "metadata": {},
   "outputs": [],
   "source": [
    "cnn2 = Sequential([\n",
    "    Convolution2D(8, kernel_size=(3, 3), activation='relu',padding='same',input_shape=(28,28, 1)),\n",
    "    MaxPooling2D(pool_size=(2, 2),strides=2),\n",
    "    Convolution2D(16, kernel_size=(3,3), activation='relu'),\n",
    "    MaxPooling2D(pool_size=(2, 2),strides=2),\n",
    "    Convolution2D(32, kernel_size=(5,5), activation='relu'),\n",
    "    MaxPooling2D(pool_size=(2, 2),strides=2),\n",
    "    Flatten(),\n",
    "    Dense(120, activation='relu'),\n",
    "    Dense(84, activation='relu'),\n",
    "    Dense(5, activation='softmax')\n",
    "])\n",
    "cnn2.compile(optimizer = 'adam', loss = 'categorical_crossentropy', metrics = ['accuracy'])\n",
    "cnn2.summary()"
   ]
  },
  {
   "cell_type": "code",
   "execution_count": null,
   "metadata": {},
   "outputs": [],
   "source": [
    "cnn2.fit(X_train, y_train,\n",
    "              batch_size=256,\n",
    "              epochs=30,\n",
    "               verbose=1,\n",
    "              validation_data=(X_val,y_val))"
   ]
  },
  {
   "cell_type": "code",
   "execution_count": null,
   "metadata": {},
   "outputs": [],
   "source": [
    "test_loss, test_acc = cnn2.evaluate(X_val,  y_val, verbose=2)\n",
    "\n",
    "print('\\nTest accuracy of CNN2:', test_acc)"
   ]
  },
  {
   "cell_type": "markdown",
   "metadata": {},
   "source": [
    "##### CNN3"
   ]
  },
  {
   "cell_type": "code",
   "execution_count": null,
   "metadata": {},
   "outputs": [],
   "source": [
    "cnn3 = Sequential([\n",
    "    Convolution2D(32, kernel_size=(3, 3), activation='relu',padding='same',input_shape=(28,28,1)),\n",
    "    Convolution2D(32, kernel_size=(3, 3), activation='relu',padding='same'),\n",
    "    MaxPooling2D(pool_size=(2, 2),strides=2),\n",
    "    Dropout(0.2),\n",
    "    Convolution2D(64, kernel_size=(3, 3), activation='relu'),\n",
    "    Convolution2D(64, kernel_size=(3, 3), activation='relu'),\n",
    "    MaxPooling2D(pool_size=(2, 2),strides=2),\n",
    "    Dropout(0.3),\n",
    "    Flatten(),\n",
    "    Dense(256, activation='relu'),\n",
    "    Dense(5, activation='softmax')\n",
    "])\n",
    "cnn3.compile(optimizer = 'adam', loss = 'categorical_crossentropy', metrics = ['accuracy'])\n",
    "cnn3.summary()#----------BEST AT 30 EPOC"
   ]
  },
  {
   "cell_type": "code",
   "execution_count": null,
   "metadata": {},
   "outputs": [],
   "source": [
    "fashion_train =cnn3.fit(X_train, y_train,\n",
    "              batch_size=256,\n",
    "              epochs=40,\n",
    "              verbose=1,\n",
    "              validation_data=(X_val,y_val))"
   ]
  },
  {
   "cell_type": "code",
   "execution_count": null,
   "metadata": {},
   "outputs": [],
   "source": [
    "test_eval = cnn3.evaluate(X_val, y_val, verbose=2)\n",
    "print('Test loss:', test_eval[0])\n",
    "print('Test accuracy:', test_eval[1])\n",
    "#test_loss, test_acc = cnn3.evaluate(X_val,  y_val, verbose=2)\n",
    "\n",
    "#print('\\nTest accuracy of CNN2:', test_acc)\n"
   ]
  },
  {
   "cell_type": "code",
   "execution_count": null,
   "metadata": {},
   "outputs": [],
   "source": [
    "import matplotlib.pyplot as plt\n",
    "accuracy = fashion_train.history['accuracy']\n",
    "val_accuracy = fashion_train.history['val_accuracy']\n",
    "loss = fashion_train.history['loss']\n",
    "val_loss = fashion_train.history['val_loss']\n",
    "epochs = range(len(accuracy))\n",
    "plt.plot(epochs, accuracy, 'bo', label='Training accuracy')\n",
    "plt.plot(epochs, val_accuracy, 'b', label='Validation accuracy')\n",
    "plt.title('Training and validation accuracy')\n",
    "plt.legend()\n",
    "plt.figure()\n",
    "plt.plot(epochs, loss, 'bo', label='Training loss')\n",
    "plt.plot(epochs, val_loss, 'b', label='Validation loss')\n",
    "plt.title('Training and validation loss')\n",
    "plt.legend()\n",
    "plt.show()"
   ]
  },
  {
   "cell_type": "markdown",
   "metadata": {},
   "source": [
    "##### CNN4"
   ]
  },
  {
   "cell_type": "code",
   "execution_count": null,
   "metadata": {},
   "outputs": [],
   "source": [
    "cnn4 = Sequential([\n",
    "    Convolution2D(filters=32, kernel_size=5, activation='relu',padding='same',input_shape=(28,28,1)),\n",
    "    MaxPooling2D(pool_size=2),\n",
    "    Convolution2D(filters=64, kernel_size=3, activation='relu',padding='same'),\n",
    "    MaxPooling2D(pool_size=2),\n",
    "    Convolution2D(128, kernel_size=1, activation='relu',padding='same'),\n",
    "    #MaxPooling2D(pool_size=(2, 2),strides=2),\n",
    "    Dropout(0.2),\n",
    "    Flatten(),\n",
    "    Dense(1024, activation='relu'),\n",
    "    Dropout(0.25),\n",
    "    Dense(32, activation='relu'),\n",
    "    #Dropout(0.3),\n",
    "    Dense(5, activation='softmax')\n",
    "])\n",
    "cnn4.compile(optimizer = 'adam', loss = 'categorical_crossentropy', metrics = ['accuracy'])\n",
    "cnn4.summary()"
   ]
  },
  {
   "cell_type": "code",
   "execution_count": null,
   "metadata": {},
   "outputs": [],
   "source": [
    "cnn4.fit(X_train, y_train,\n",
    "              batch_size=1024,\n",
    "              epochs=400,\n",
    "               verbose=1,\n",
    "              validation_data=(X_val,y_val))"
   ]
  },
  {
   "cell_type": "code",
   "execution_count": null,
   "metadata": {},
   "outputs": [],
   "source": [
    "test_loss, test_acc = cnn4.evaluate(X_val,  y_val, verbose=2)\n",
    "\n",
    "print('\\nTest accuracy of CNN4:', test_acc)"
   ]
  },
  {
   "cell_type": "code",
   "execution_count": null,
   "metadata": {},
   "outputs": [],
   "source": [
    "ynew = cnn3.predict_classes(testing_data)\n",
    "print(ynew)\n",
    "np.savetxt(\"foo.csv\", ynew,fmt='%d', delimiter=\",\")"
   ]
  },
  {
   "cell_type": "code",
   "execution_count": null,
   "metadata": {},
   "outputs": [],
   "source": [
    "cnn11 = Sequential([\n",
    "    Convolution2D(8, kernel_size=(3, 3), activation='relu',padding='same',input_shape=(28,28,1)),\n",
    "    MaxPooling2D(pool_size=(2, 2),strides=2),\n",
    "    Convolution2D(16, kernel_size=(3,3), activation='relu'),\n",
    "    MaxPooling2D(pool_size=(2, 2),strides=2),\n",
    "    Convolution2D(32, kernel_size=(5, 5), activation='relu'),\n",
    "    MaxPooling2D(pool_size=(2, 2),strides=2),\n",
    "    Flatten(),\n",
    "    Dense(120, activation='relu'),\n",
    "    Dropout(0.2),\n",
    "    Dense(84, activation='relu'),\n",
    "    Dropout(0.3),\n",
    "    Dense(5, activation='softmax')\n",
    "])\n",
    "cnn11.compile(optimizer = 'adam', loss = 'categorical_crossentropy', metrics = ['accuracy'])\n",
    "cnn11.summary()"
   ]
  },
  {
   "cell_type": "code",
   "execution_count": null,
   "metadata": {},
   "outputs": [],
   "source": [
    "cnn11.fit(X_train, y_train,\n",
    "              batch_size=256,\n",
    "              epochs=300,\n",
    "               verbose=1,\n",
    "              validation_data=(X_val,y_val))"
   ]
  },
  {
   "cell_type": "code",
   "execution_count": null,
   "metadata": {},
   "outputs": [],
   "source": [
    "test_loss, test_acc = cnn11.evaluate(X_val,  y_val, verbose=2)\n",
    "\n",
    "print('\\nTest accuracy:', test_acc)"
   ]
  },
  {
   "cell_type": "code",
   "execution_count": null,
   "metadata": {},
   "outputs": [],
   "source": [
    "\n",
    "ynew = cnn2.predict_classes(testing_data)\n",
    "print(ynew)\n",
    "np.savetxt(\"foo.csv\", ynew,fmt='%d', delimiter=\",\")"
   ]
  },
  {
   "cell_type": "markdown",
   "metadata": {},
   "source": [
    "Resnet"
   ]
  },
  {
   "cell_type": "code",
   "execution_count": null,
   "metadata": {},
   "outputs": [],
   "source": [
    "from keras.layers import  Conv2D, Activation\n",
    "from keras.layers import MaxPooling2D, AveragePooling2D, Input, Flatten\n",
    "from keras.optimizers import Adam\n",
    "from keras.callbacks import ModelCheckpoint, ReduceLROnPlateau\n",
    "from keras.preprocessing.image import ImageDataGenerator\n",
    "from keras.regularizers import l2\n",
    "from keras import backend as K\n",
    "from keras.models import Model\n",
    "from sklearn.model_selection import train_test_split\n",
    "\n",
    "epochs = 100\n",
    "batch_size = 32\n",
    "data_augmentation = False\n",
    "img_size = 28\n",
    "\n",
    "num_classes = 5\n",
    "num_filters = 64\n",
    "num_blocks = 4\n",
    "num_sub_blocks = 2\n",
    "use_max_pool = False\n",
    "\n",
    "#Creating model based on ResNet published archietecture\n",
    "inputs = Input(shape=(28,28,1))\n",
    "x = Convolution2D(num_filters, padding='same', \n",
    "           kernel_initializer='he_normal', \n",
    "           kernel_size=7, strides=2,\n",
    "           kernel_regularizer=l2(1e-4))(inputs)\n",
    "x = BatchNormalization()(x)\n",
    "x = Activation('relu')(x)\n",
    "\n",
    "#Check by applying max pooling later (setting it false as size of image is small i.e. 28x28)\n",
    "if use_max_pool:\n",
    "    x = MaxPooling2D(pool_size=3,padding='same', strides=2)(x)\n",
    "    num_blocks =3\n",
    "#Creating Conv base stack \n",
    "\n",
    "# Instantiate convolutional base (stack of blocks).\n",
    "for i in range(num_blocks):\n",
    "    for j in range(num_sub_blocks):\n",
    "        strides = 1\n",
    "        is_first_layer_but_not_first_block = j == 0 and i > 0\n",
    "        if is_first_layer_but_not_first_block:\n",
    "            strides = 2\n",
    "        #Creating residual mapping using y\n",
    "        y = Conv2D(num_filters,\n",
    "                   kernel_size=3,\n",
    "                   padding='same',\n",
    "                   strides=strides,\n",
    "                   kernel_initializer='he_normal',\n",
    "                   kernel_regularizer=l2(1e-4))(x)\n",
    "        y = BatchNormalization()(y)\n",
    "        y = Activation('relu')(y)\n",
    "        y = Conv2D(num_filters,\n",
    "                   kernel_size=3,\n",
    "                   padding='same',\n",
    "                   kernel_initializer='he_normal',\n",
    "                   kernel_regularizer=l2(1e-4))(y)\n",
    "        y = BatchNormalization()(y)\n",
    "        if is_first_layer_but_not_first_block:\n",
    "            x = Conv2D(num_filters,\n",
    "                       kernel_size=1,\n",
    "                       padding='same',\n",
    "                       strides=2,\n",
    "                       kernel_initializer='he_normal',\n",
    "                       kernel_regularizer=l2(1e-4))(x)\n",
    "        #Adding back residual mapping\n",
    "        x = keras.layers.add([x, y])\n",
    "        x = Activation('relu')(x)\n",
    "\n",
    "    num_filters = 2 * num_filters\n",
    "\n",
    "# Add classifier on top.\n",
    "x = AveragePooling2D()(x)\n",
    "y = Flatten()(x)\n",
    "outputs = Dense(num_classes,\n",
    "                activation='softmax',\n",
    "                kernel_initializer='he_normal')(y)\n",
    "\n",
    "# Instantiate and compile model.\n",
    "model = Model(inputs=inputs, outputs=outputs)\n",
    "model.compile(loss='categorical_crossentropy',\n",
    "              optimizer=Adam(),\n",
    "              metrics=['accuracy'])\n",
    "model.summary()"
   ]
  },
  {
   "cell_type": "code",
   "execution_count": null,
   "metadata": {},
   "outputs": [],
   "source": []
  }
 ],
 "metadata": {
  "kernelspec": {
   "display_name": "Python 3",
   "language": "python",
   "name": "python3"
  },
  "language_info": {
   "codemirror_mode": {
    "name": "ipython",
    "version": 3
   },
   "file_extension": ".py",
   "mimetype": "text/x-python",
   "name": "python",
   "nbconvert_exporter": "python",
   "pygments_lexer": "ipython3",
   "version": "3.7.7"
  }
 },
 "nbformat": 4,
 "nbformat_minor": 4
}
